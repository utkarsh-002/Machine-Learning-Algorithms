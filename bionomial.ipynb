{
 "cells": [
  {
   "cell_type": "code",
   "execution_count": 1,
   "id": "8fb0c9bf",
   "metadata": {},
   "outputs": [],
   "source": [
    "import pandas as pd\n",
    "import numpy as np\n",
    "weather=['Sunny','Sunny','Overcast','Rainy','Rainy','Rainy','Overcast','Sunny','Sunny',\n",
    "'Rainy','Sunny','Overcast','Overcast','Rainy']\n",
    "temp=['Hot','Hot','Hot','Mild','Cool','Cool','Cool','Mild','Cool','Mild','Mild','Mild','Hot','Mild']\n",
    "humidity=['High', 'High','High','High','Normal','Normal','Normal','High', 'Normal','Normal','Normal','High','Normal','High'] \n",
    "windy=['weak', 'strong', 'weak', 'weak', 'weak', 'strong', 'strong', 'weak', 'weak', 'weak', 'strong', 'strong', 'weak','strong']\n",
    "\n",
    "\n",
    "play=['No','No','Yes','Yes','Yes','No','Yes','No','Yes','Yes','Yes','Yes','Yes','No']\n",
    "\n"
   ]
  },
  {
   "cell_type": "code",
   "execution_count": 2,
   "id": "f70804c7",
   "metadata": {},
   "outputs": [],
   "source": [
    "from sklearn.preprocessing import LabelEncoder\n",
    "le=LabelEncoder()\n",
    "weather=le.fit_transform(weather)\n",
    "temp=le.fit_transform(temp)\n",
    "humidity=le.fit_transform(humidity)\n",
    "windy=le.fit_transform(windy)\n",
    "\n",
    "y=le.fit_transform(play)"
   ]
  },
  {
   "cell_type": "code",
   "execution_count": 4,
   "id": "b4da4fa4",
   "metadata": {},
   "outputs": [
    {
     "data": {
      "text/plain": [
       "((2, 1, 0, 1),\n",
       " (2, 1, 0, 0),\n",
       " (0, 1, 0, 1),\n",
       " (1, 2, 0, 1),\n",
       " (1, 0, 1, 1),\n",
       " (1, 0, 1, 0),\n",
       " (0, 0, 1, 0),\n",
       " (2, 2, 0, 1),\n",
       " (2, 0, 1, 1),\n",
       " (1, 2, 1, 1),\n",
       " (2, 2, 1, 0),\n",
       " (0, 2, 0, 0),\n",
       " (0, 1, 1, 1),\n",
       " (1, 2, 0, 0))"
      ]
     },
     "metadata": {},
     "output_type": "display_data"
    }
   ],
   "source": [
    "x=tuple(zip(weather,temp,humidity,windy))\n",
    "display(x)"
   ]
  },
  {
   "cell_type": "code",
   "execution_count": 22,
   "id": "651a0113",
   "metadata": {},
   "outputs": [],
   "source": [
    "from sklearn.model_selection import train_test_split\n",
    "x_train,x_test,y_train,y_test=train_test_split(x,y,test_size=0.3)"
   ]
  },
  {
   "cell_type": "code",
   "execution_count": 23,
   "id": "3e8bfed7",
   "metadata": {},
   "outputs": [
    {
     "data": {
      "text/plain": [
       "GaussianNB()"
      ]
     },
     "execution_count": 23,
     "metadata": {},
     "output_type": "execute_result"
    }
   ],
   "source": [
    "from sklearn.naive_bayes import GaussianNB\n",
    "model=GaussianNB()\n",
    "model.fit(x_train,y_train)"
   ]
  },
  {
   "cell_type": "code",
   "execution_count": 30,
   "id": "48fc9a2a",
   "metadata": {},
   "outputs": [
    {
     "data": {
      "text/plain": [
       "array([0])"
      ]
     },
     "execution_count": 30,
     "metadata": {},
     "output_type": "execute_result"
    }
   ],
   "source": [
    "testx=[1,1,0,1]\n",
    "pre=model.predict([testx])\n",
    "pre"
   ]
  },
  {
   "cell_type": "code",
   "execution_count": 32,
   "id": "cdcfdf5d",
   "metadata": {},
   "outputs": [
    {
     "data": {
      "text/plain": [
       "array([[1, 1],\n",
       "       [1, 2]])"
      ]
     },
     "execution_count": 32,
     "metadata": {},
     "output_type": "execute_result"
    }
   ],
   "source": [
    "pred=model.predict(x_test)\n",
    "from sklearn.metrics import confusion_matrix,plot_confusion_matrix\n",
    "import matplotlib.pyplot as plt\n",
    "cnf=confusion_matrix(y_test,pred)\n",
    "cnf"
   ]
  },
  {
   "cell_type": "code",
   "execution_count": 34,
   "id": "726f00d1",
   "metadata": {},
   "outputs": [
    {
     "name": "stderr",
     "output_type": "stream",
     "text": [
      "/Library/Frameworks/Python.framework/Versions/3.10/lib/python3.10/site-packages/sklearn/utils/deprecation.py:87: FutureWarning: Function plot_confusion_matrix is deprecated; Function `plot_confusion_matrix` is deprecated in 1.0 and will be removed in 1.2. Use one of the class methods: ConfusionMatrixDisplay.from_predictions or ConfusionMatrixDisplay.from_estimator.\n",
      "  warnings.warn(msg, category=FutureWarning)\n"
     ]
    },
    {
     "data": {
      "text/plain": [
       "<sklearn.metrics._plot.confusion_matrix.ConfusionMatrixDisplay at 0x162be3940>"
      ]
     },
     "execution_count": 34,
     "metadata": {},
     "output_type": "execute_result"
    },
    {
     "data": {
      "image/png": "[encoded data removed]",
      "text/plain": [
       "<Figure size 432x288 with 2 Axes>"
      ]
     },
     "metadata": {
      "needs_background": "light"
     },
     "output_type": "display_data"
    }
   ],
   "source": [
    "plot_confusion_matrix(model,x_test,y_test)"
   ]
  },
  {
   "cell_type": "code",
   "execution_count": 36,
   "id": "13af2f5d",
   "metadata": {},
   "outputs": [
    {
     "data": {
      "text/plain": [
       "[<matplotlib.lines.Line2D at 0x1644c8460>,\n",
       " <matplotlib.lines.Line2D at 0x1644c8580>]"
      ]
     },
     "execution_count": 36,
     "metadata": {},
     "output_type": "execute_result"
    },
    {
     "data": {
      "image/png": "[encoded data removed]",
      "text/plain": [
       "<Figure size 432x288 with 1 Axes>"
      ]
     },
     "metadata": {
      "needs_background": "light"
     },
     "output_type": "display_data"
    }
   ],
   "source": [
    "from sklearn.metrics import roc_curve\n",
    "tpr={}\n",
    "fpr={}\n",
    "thresh={}\n",
    "y_proba=model.predict_proba(x_test)\n",
    "for i in range(2):\n",
    "    fpr[i],tpr[i],thresh[i]=roc_curve(y_test,y_proba[:,i],pos_label=i)\n",
    "plt.plot(fpr[0],tpr[0],linestyle='-',c='red')\n",
    "plt.plot(fpr[1],tpr[1],linestyle='-',c='blue')\n",
    "plt.plot([[0,0],[1,1]],linestyle='--',c='orange')"
   ]
  },
  {
   "cell_type": "code",
   "execution_count": null,
   "id": "34faf974",
   "metadata": {},
   "outputs": [],
   "source": []
  }
 ],
 "metadata": {
  "kernelspec": {
   "display_name": "Python 3 (ipykernel)",
   "language": "python",
   "name": "python3"
  },
  "language_info": {
   "codemirror_mode": {
    "name": "ipython",
    "version": 3
   },
   "file_extension": ".py",
   "mimetype": "text/x-python",
   "name": "python",
   "nbconvert_exporter": "python",
   "pygments_lexer": "ipython3",
   "version": "3.10.5"
  }
 },
 "nbformat": 4,
 "nbformat_minor": 5
}
